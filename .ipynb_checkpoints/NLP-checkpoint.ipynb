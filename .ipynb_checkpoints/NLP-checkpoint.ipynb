{
 "cells": [
  {
   "cell_type": "code",
   "execution_count": 1,
   "metadata": {},
   "outputs": [
    {
     "name": "stderr",
     "output_type": "stream",
     "text": [
      "paramiko missing, opening SSH/SCP/SFTP paths will be disabled.  `pip install paramiko` to suppress\n"
     ]
    }
   ],
   "source": [
    "import ast\n",
    "import logging\n",
    "import string\n",
    "import numpy as np\n",
    "\n",
    "from sklearn.model_selection import train_test_split\n",
    "from sklearn.feature_extraction.text import TfidfVectorizer\n",
    "from sklearn.metrics import precision_recall_fscore_support\n",
    "from nltk.corpus import stopwords\n",
    "from sklearn.linear_model import LogisticRegression\n",
    "from sklearn.ensemble import ExtraTreesClassifier\n",
    "from pymystem3 import Mystem\n",
    "from gensim.models import Word2Vec"
   ]
  },
  {
   "cell_type": "code",
   "execution_count": 2,
   "metadata": {},
   "outputs": [],
   "source": [
    "CORPUS_PATH = 'data/corpus.txt'\n",
    "log = logging.getLogger()\n",
    "\n",
    "POS_MARK = 1\n",
    "NEG_MARK = 0"
   ]
  },
  {
   "cell_type": "code",
   "execution_count": 3,
   "metadata": {},
   "outputs": [],
   "source": [
    "def read_data(corpus_path):\n",
    "    with open(corpus_path, 'r') as f:\n",
    "        log.info(\"Reading file...\")\n",
    "\n",
    "        reviews = []\n",
    "        marks = []\n",
    "\n",
    "        lines = f.readlines()\n",
    "        lines = [x.strip() for x in lines]\n",
    "\n",
    "        for line in lines:\n",
    "            dictionary = ast.literal_eval(line)\n",
    "            reviews.append(dictionary['description'])\n",
    "\n",
    "            recom_author_mark = dictionary['recom_author_mark']\n",
    "            marks.append(parse_label(recom_author_mark))\n",
    "\n",
    "    return reviews, marks\n",
    "\n",
    "\n",
    "def parse_label(recom_author_mark):\n",
    "    if recom_author_mark == 'ДА':\n",
    "        return POS_MARK\n",
    "    elif recom_author_mark == '':\n",
    "        return NEG_MARK\n",
    "    else:\n",
    "        raise Exception(\"Unknown recom_author_mark\")\n",
    "\n",
    "\n",
    "def split_reviews(reviews, marks, n=500):\n",
    "    pos_reviews = []\n",
    "    neg_reviews = []\n",
    "\n",
    "    log.info(f\"Split reviews to {n} positive and {n} negative.\")\n",
    "\n",
    "    for index, review in enumerate(reviews):\n",
    "        if marks[index] == POS_MARK and len(pos_reviews) < n:\n",
    "            pos_reviews.append(review)\n",
    "        elif marks[index] == NEG_MARK and len(neg_reviews) < n:\n",
    "            neg_reviews.append(review)\n",
    "\n",
    "        if len(pos_reviews) == n and len(neg_reviews) == n:\n",
    "            break\n",
    "\n",
    "    return pos_reviews, neg_reviews\n",
    "\n",
    "\n",
    "def tokenize(document):\n",
    "    ignore = set(stopwords.words('russian'))\n",
    "    stem = Mystem()\n",
    "\n",
    "    tokens = stem.lemmatize(document)\n",
    "\n",
    "    tokens = [w.lower() for w in tokens if w not in ignore]\n",
    "    tokens = [w for w in tokens if w not in string.punctuation]\n",
    "    tokens = [w for w in tokens if w.isalpha()]\n",
    "\n",
    "    return tokens\n",
    "\n",
    "\n",
    "def tokenize_documents_extend(documents):\n",
    "    texts = []\n",
    "\n",
    "    for document in documents:\n",
    "        w = tokenize(document)\n",
    "        texts.extend(w)\n",
    "\n",
    "    return texts\n",
    "\n",
    "\n",
    "def tokenize_documents_append(documents):\n",
    "    texts = []\n",
    "\n",
    "    for document in documents:\n",
    "        w = tokenize(document)\n",
    "        texts.append(w)\n",
    "\n",
    "    return texts\n",
    "\n",
    "\n",
    "def print_score_model(model, X_test, y_test):\n",
    "    y_pred = model.predict(X_test)\n",
    "    metrics = precision_recall_fscore_support(y_pred=y_pred, y_true=y_test, average='binary', pos_label=POS_MARK)\n",
    "    log.info(f'Precision: {round(metrics[0], 3)}, recall: {round(metrics[1], 3)}, f-measure: {round(metrics[2], 3)}')\n",
    "\n",
    "\n",
    "def feature_importances(X, Y):\n",
    "    model = ExtraTreesClassifier()\n",
    "    model.fit(X, Y)\n",
    "    return model.feature_importances_\n",
    "\n",
    "\n",
    "def print_most_valuable_features(tokens, tokens_importances, n=100):\n",
    "    tokens_importances, tokens = zip(*sorted(zip(tokens_importances, tokens), reverse=True))\n",
    "\n",
    "    print(tokens[:n])\n",
    "    print(tokens_importances[:n])\n",
    "\n",
    "\n",
    "def setup_logger():\n",
    "    logging.basicConfig(format='%(levelname)s - %(asctime)s - %(message)s')\n",
    "    log.setLevel(logging.INFO)\n",
    "\n",
    "\n",
    "def makeFeatureVec(words, model, num_features):\n",
    "    featureVec = np.zeros((num_features,), dtype=\"float32\")\n",
    "\n",
    "    nwords = 0\n",
    "\n",
    "    index2word_set = set(model.wv.index2word)\n",
    "\n",
    "    for word in words:\n",
    "        if word in index2word_set:\n",
    "            nwords = nwords + 1\n",
    "            featureVec = np.add(featureVec, model[word])\n",
    "\n",
    "    featureVec = np.divide(featureVec, nwords)\n",
    "    return featureVec\n",
    "\n",
    "\n",
    "def getAvgFeatureVecs(reviews, model, num_features):\n",
    "    counter = 0\n",
    "\n",
    "    reviewFeatureVecs = np.zeros((len(reviews), num_features), dtype=\"float32\")\n",
    "\n",
    "    for review in reviews:\n",
    "        reviewFeatureVecs[counter] = makeFeatureVec(review, model, num_features)\n",
    "        counter = counter + 1\n",
    "\n",
    "    return reviewFeatureVecs"
   ]
  },
  {
   "cell_type": "code",
   "execution_count": 4,
   "metadata": {},
   "outputs": [],
   "source": [
    "setup_logger()"
   ]
  },
  {
   "cell_type": "code",
   "execution_count": 5,
   "metadata": {},
   "outputs": [
    {
     "name": "stderr",
     "output_type": "stream",
     "text": [
      "INFO - 2019-05-08 14:21:45,773 - Reading file...\n",
      "INFO - 2019-05-08 14:22:01,908 - Split reviews to 500 positive and 500 negative.\n"
     ]
    }
   ],
   "source": [
    "reviews, marks = read_data(CORPUS_PATH)\n",
    "pos_reviews, neg_reviews = split_reviews(reviews, marks)\n",
    "\n",
    "y_pos = [1] * len(pos_reviews)\n",
    "y_neg = [0] * len(neg_reviews)\n",
    "\n",
    "X_train, X_test, y_train, y_test = train_test_split(pos_reviews + neg_reviews, y_pos + y_neg, test_size=0.2)"
   ]
  },
  {
   "cell_type": "code",
   "execution_count": 6,
   "metadata": {},
   "outputs": [
    {
     "data": {
      "application/javascript": [
       "if (!(\"Notification\" in window)) {\n",
       "    alert(\"This browser does not support desktop notifications, so the %%notify magic will not work.\");\n",
       "} else if (Notification.permission !== 'granted' && Notification.permission !== 'denied') {\n",
       "    Notification.requestPermission(function (permission) {\n",
       "        if(!('permission' in Notification)) {\n",
       "            Notification.permission = permission;\n",
       "        }\n",
       "    })\n",
       "}\n"
      ],
      "text/plain": [
       "<IPython.core.display.Javascript object>"
      ]
     },
     "metadata": {},
     "output_type": "display_data"
    }
   ],
   "source": [
    "%load_ext jupyternotify"
   ]
  },
  {
   "cell_type": "code",
   "execution_count": 7,
   "metadata": {},
   "outputs": [
    {
     "name": "stderr",
     "output_type": "stream",
     "text": [
      "INFO - 2019-05-08 14:44:42,194 - Precision: 0.79, recall: 0.84, f-measure: 0.814\n"
     ]
    },
    {
     "data": {
      "application/javascript": [
       "$(document).ready(\n",
       "    function() {\n",
       "        function appendUniqueDiv(){\n",
       "            // append a div with our uuid so we can check that it's already\n",
       "            // been sent and avoid duplicates on page reload\n",
       "            var notifiedDiv = document.createElement(\"div\")\n",
       "            notifiedDiv.id = \"3fee89a9-4f02-4365-9dba-266b476c7c72\"\n",
       "            element.append(notifiedDiv)\n",
       "        }\n",
       "\n",
       "        // only send notifications if the pageload is complete; this will\n",
       "        // help stop extra notifications when a saved notebook is loaded,\n",
       "        // which during testing gives us state \"interactive\", not \"complete\"\n",
       "        if (document.readyState === 'complete') {\n",
       "            // check for the div that signifies that the notification\n",
       "            // was already sent\n",
       "            if (document.getElementById(\"3fee89a9-4f02-4365-9dba-266b476c7c72\") === null) {\n",
       "                var notificationPayload = {\"requireInteraction\": false, \"icon\": \"/static/base/images/favicon.ico\", \"body\": \"Cell execution has finished!\"};\n",
       "                if (Notification.permission !== 'denied') {\n",
       "                    if (Notification.permission !== 'granted') { \n",
       "                        Notification.requestPermission(function (permission) {\n",
       "                            if(!('permission' in Notification)) {\n",
       "                                Notification.permission = permission\n",
       "                            }\n",
       "                        })\n",
       "                    }\n",
       "                    if (Notification.permission === 'granted') {\n",
       "                    var notification = new Notification(\"Jupyter Notebook\", notificationPayload)\n",
       "                    appendUniqueDiv()\n",
       "                    notification.onclick = function () {\n",
       "                        window.focus();\n",
       "                        this.close();\n",
       "                        };\n",
       "                    } \n",
       "                }     \n",
       "            }\n",
       "        }\n",
       "    }\n",
       ")\n"
      ],
      "text/plain": [
       "<IPython.core.display.Javascript object>"
      ]
     },
     "metadata": {},
     "output_type": "display_data"
    }
   ],
   "source": [
    "%%notify\n",
    "vectorizer = TfidfVectorizer(max_features=50000, min_df=5, tokenizer=tokenize)\n",
    "X_train_vect = vectorizer.fit_transform(X_train)\n",
    "X_test_vect = vectorizer.transform(X_test)\n",
    "\n",
    "model = LogisticRegression(solver=\"lbfgs\")\n",
    "model.fit(X_train_vect.toarray(), y_train)\n",
    "print_score_model(model, X_test_vect.toarray(), y_test)"
   ]
  },
  {
   "cell_type": "code",
   "execution_count": 8,
   "metadata": {},
   "outputs": [
    {
     "name": "stderr",
     "output_type": "stream",
     "text": [
      "INFO - 2019-05-08 14:45:00,126 - Precision: 0.816, recall: 0.851, f-measure: 0.833\n"
     ]
    },
    {
     "data": {
      "application/javascript": [
       "$(document).ready(\n",
       "    function() {\n",
       "        function appendUniqueDiv(){\n",
       "            // append a div with our uuid so we can check that it's already\n",
       "            // been sent and avoid duplicates on page reload\n",
       "            var notifiedDiv = document.createElement(\"div\")\n",
       "            notifiedDiv.id = \"49c20c9d-cc90-4456-8541-d3df41a404aa\"\n",
       "            element.append(notifiedDiv)\n",
       "        }\n",
       "\n",
       "        // only send notifications if the pageload is complete; this will\n",
       "        // help stop extra notifications when a saved notebook is loaded,\n",
       "        // which during testing gives us state \"interactive\", not \"complete\"\n",
       "        if (document.readyState === 'complete') {\n",
       "            // check for the div that signifies that the notification\n",
       "            // was already sent\n",
       "            if (document.getElementById(\"49c20c9d-cc90-4456-8541-d3df41a404aa\") === null) {\n",
       "                var notificationPayload = {\"requireInteraction\": false, \"icon\": \"/static/base/images/favicon.ico\", \"body\": \"Cell execution has finished!\"};\n",
       "                if (Notification.permission !== 'denied') {\n",
       "                    if (Notification.permission !== 'granted') { \n",
       "                        Notification.requestPermission(function (permission) {\n",
       "                            if(!('permission' in Notification)) {\n",
       "                                Notification.permission = permission\n",
       "                            }\n",
       "                        })\n",
       "                    }\n",
       "                    if (Notification.permission === 'granted') {\n",
       "                    var notification = new Notification(\"Jupyter Notebook\", notificationPayload)\n",
       "                    appendUniqueDiv()\n",
       "                    notification.onclick = function () {\n",
       "                        window.focus();\n",
       "                        this.close();\n",
       "                        };\n",
       "                    } \n",
       "                }     \n",
       "            }\n",
       "        }\n",
       "    }\n",
       ")\n"
      ],
      "text/plain": [
       "<IPython.core.display.Javascript object>"
      ]
     },
     "metadata": {},
     "output_type": "display_data"
    }
   ],
   "source": [
    "%%notify\n",
    "# Test Features char ngram\n",
    "vectorizer = TfidfVectorizer(max_features=50000, min_df=5, analyzer='char', ngram_range=(3, 3))\n",
    "X_train_vect_word_ngram = vectorizer.fit_transform(X_train)\n",
    "X_test_vect_word_ngram = vectorizer.transform(X_test)\n",
    "\n",
    "train_matrix = np.append(X_train_vect.toarray(), X_train_vect_word_ngram.toarray(), axis=1)\n",
    "test_matrix = np.append(X_test_vect.toarray(), X_test_vect_word_ngram.toarray(), axis=1)\n",
    "\n",
    "model = LogisticRegression(solver=\"lbfgs\")\n",
    "model.fit(train_matrix, y_train)\n",
    "print_score_model(model, test_matrix, y_test)"
   ]
  },
  {
   "cell_type": "code",
   "execution_count": 9,
   "metadata": {},
   "outputs": [
    {
     "name": "stderr",
     "output_type": "stream",
     "text": [
      "INFO - 2019-05-08 15:08:32,499 - Precision: 0.786, recall: 0.819, f-measure: 0.802\n"
     ]
    },
    {
     "data": {
      "application/javascript": [
       "$(document).ready(\n",
       "    function() {\n",
       "        function appendUniqueDiv(){\n",
       "            // append a div with our uuid so we can check that it's already\n",
       "            // been sent and avoid duplicates on page reload\n",
       "            var notifiedDiv = document.createElement(\"div\")\n",
       "            notifiedDiv.id = \"80618035-8e5a-4332-bbbb-aad501406a11\"\n",
       "            element.append(notifiedDiv)\n",
       "        }\n",
       "\n",
       "        // only send notifications if the pageload is complete; this will\n",
       "        // help stop extra notifications when a saved notebook is loaded,\n",
       "        // which during testing gives us state \"interactive\", not \"complete\"\n",
       "        if (document.readyState === 'complete') {\n",
       "            // check for the div that signifies that the notification\n",
       "            // was already sent\n",
       "            if (document.getElementById(\"80618035-8e5a-4332-bbbb-aad501406a11\") === null) {\n",
       "                var notificationPayload = {\"requireInteraction\": false, \"icon\": \"/static/base/images/favicon.ico\", \"body\": \"Cell execution has finished!\"};\n",
       "                if (Notification.permission !== 'denied') {\n",
       "                    if (Notification.permission !== 'granted') { \n",
       "                        Notification.requestPermission(function (permission) {\n",
       "                            if(!('permission' in Notification)) {\n",
       "                                Notification.permission = permission\n",
       "                            }\n",
       "                        })\n",
       "                    }\n",
       "                    if (Notification.permission === 'granted') {\n",
       "                    var notification = new Notification(\"Jupyter Notebook\", notificationPayload)\n",
       "                    appendUniqueDiv()\n",
       "                    notification.onclick = function () {\n",
       "                        window.focus();\n",
       "                        this.close();\n",
       "                        };\n",
       "                    } \n",
       "                }     \n",
       "            }\n",
       "        }\n",
       "    }\n",
       ")\n"
      ],
      "text/plain": [
       "<IPython.core.display.Javascript object>"
      ]
     },
     "metadata": {},
     "output_type": "display_data"
    }
   ],
   "source": [
    "%%notify\n",
    "# Test Features word ngram\n",
    "vectorizer = TfidfVectorizer(max_features=50000, min_df=5, tokenizer=tokenize, analyzer='word', ngram_range=(3, 3))\n",
    "X_train_vect_word_ngram = vectorizer.fit_transform(X_train)\n",
    "X_test_vect_word_ngram = vectorizer.transform(X_test)\n",
    "\n",
    "train_matrix = np.append(X_train_vect.toarray(), X_train_vect_word_ngram.toarray(), axis=1)\n",
    "test_matrix = np.append(X_test_vect.toarray(), X_test_vect_word_ngram.toarray(), axis=1)\n",
    "\n",
    "model = LogisticRegression(solver=\"lbfgs\")\n",
    "model.fit(train_matrix, y_train)\n",
    "print_score_model(model, test_matrix, y_test)"
   ]
  },
  {
   "cell_type": "code",
   "execution_count": 10,
   "metadata": {},
   "outputs": [
    {
     "name": "stderr",
     "output_type": "stream",
     "text": [
      "INFO - 2019-05-08 15:30:26,161 - Precision: 0.784, recall: 0.851, f-measure: 0.816\n"
     ]
    },
    {
     "data": {
      "application/javascript": [
       "$(document).ready(\n",
       "    function() {\n",
       "        function appendUniqueDiv(){\n",
       "            // append a div with our uuid so we can check that it's already\n",
       "            // been sent and avoid duplicates on page reload\n",
       "            var notifiedDiv = document.createElement(\"div\")\n",
       "            notifiedDiv.id = \"f4466845-1c2a-407e-ab17-465ce9e70e80\"\n",
       "            element.append(notifiedDiv)\n",
       "        }\n",
       "\n",
       "        // only send notifications if the pageload is complete; this will\n",
       "        // help stop extra notifications when a saved notebook is loaded,\n",
       "        // which during testing gives us state \"interactive\", not \"complete\"\n",
       "        if (document.readyState === 'complete') {\n",
       "            // check for the div that signifies that the notification\n",
       "            // was already sent\n",
       "            if (document.getElementById(\"f4466845-1c2a-407e-ab17-465ce9e70e80\") === null) {\n",
       "                var notificationPayload = {\"requireInteraction\": false, \"icon\": \"/static/base/images/favicon.ico\", \"body\": \"Cell execution has finished!\"};\n",
       "                if (Notification.permission !== 'denied') {\n",
       "                    if (Notification.permission !== 'granted') { \n",
       "                        Notification.requestPermission(function (permission) {\n",
       "                            if(!('permission' in Notification)) {\n",
       "                                Notification.permission = permission\n",
       "                            }\n",
       "                        })\n",
       "                    }\n",
       "                    if (Notification.permission === 'granted') {\n",
       "                    var notification = new Notification(\"Jupyter Notebook\", notificationPayload)\n",
       "                    appendUniqueDiv()\n",
       "                    notification.onclick = function () {\n",
       "                        window.focus();\n",
       "                        this.close();\n",
       "                        };\n",
       "                    } \n",
       "                }     \n",
       "            }\n",
       "        }\n",
       "    }\n",
       ")\n"
      ],
      "text/plain": [
       "<IPython.core.display.Javascript object>"
      ]
     },
     "metadata": {},
     "output_type": "display_data"
    }
   ],
   "source": [
    "%%notify\n",
    "# Test Feature word count\n",
    "train_sentences = tokenize_documents_append(X_train)\n",
    "train_word_counts = [len(tokens) for tokens in train_sentences]\n",
    "train_word_counts = np.reshape(train_word_counts, (-1, 1))\n",
    "\n",
    "test_sentences = tokenize_documents_append(X_test)\n",
    "test_word_counts = [len(tokens) for tokens in test_sentences]\n",
    "test_word_counts = np.reshape(test_word_counts, (-1, 1))\n",
    "\n",
    "train_matrix = np.append(X_train_vect.toarray(), train_word_counts, axis=1)\n",
    "test_matrix = np.append(X_test_vect.toarray(), test_word_counts, axis=1)\n",
    "\n",
    "model = LogisticRegression(solver=\"lbfgs\")\n",
    "model.fit(train_matrix, y_train)\n",
    "print_score_model(model, test_matrix, y_test)"
   ]
  },
  {
   "cell_type": "code",
   "execution_count": 11,
   "metadata": {},
   "outputs": [
    {
     "name": "stderr",
     "output_type": "stream",
     "text": [
      "INFO - 2019-05-08 15:30:26,393 - Precision: 0.766, recall: 0.766, f-measure: 0.766\n"
     ]
    },
    {
     "data": {
      "application/javascript": [
       "$(document).ready(\n",
       "    function() {\n",
       "        function appendUniqueDiv(){\n",
       "            // append a div with our uuid so we can check that it's already\n",
       "            // been sent and avoid duplicates on page reload\n",
       "            var notifiedDiv = document.createElement(\"div\")\n",
       "            notifiedDiv.id = \"98ad8b62-6bbc-4e2a-b66e-c9c93edb21ce\"\n",
       "            element.append(notifiedDiv)\n",
       "        }\n",
       "\n",
       "        // only send notifications if the pageload is complete; this will\n",
       "        // help stop extra notifications when a saved notebook is loaded,\n",
       "        // which during testing gives us state \"interactive\", not \"complete\"\n",
       "        if (document.readyState === 'complete') {\n",
       "            // check for the div that signifies that the notification\n",
       "            // was already sent\n",
       "            if (document.getElementById(\"98ad8b62-6bbc-4e2a-b66e-c9c93edb21ce\") === null) {\n",
       "                var notificationPayload = {\"requireInteraction\": false, \"icon\": \"/static/base/images/favicon.ico\", \"body\": \"Cell execution has finished!\"};\n",
       "                if (Notification.permission !== 'denied') {\n",
       "                    if (Notification.permission !== 'granted') { \n",
       "                        Notification.requestPermission(function (permission) {\n",
       "                            if(!('permission' in Notification)) {\n",
       "                                Notification.permission = permission\n",
       "                            }\n",
       "                        })\n",
       "                    }\n",
       "                    if (Notification.permission === 'granted') {\n",
       "                    var notification = new Notification(\"Jupyter Notebook\", notificationPayload)\n",
       "                    appendUniqueDiv()\n",
       "                    notification.onclick = function () {\n",
       "                        window.focus();\n",
       "                        this.close();\n",
       "                        };\n",
       "                    } \n",
       "                }     \n",
       "            }\n",
       "        }\n",
       "    }\n",
       ")\n"
      ],
      "text/plain": [
       "<IPython.core.display.Javascript object>"
      ]
     },
     "metadata": {},
     "output_type": "display_data"
    }
   ],
   "source": [
    "%%notify\n",
    "# Test Feature characters count\n",
    "train_char_counts = [len(document) for document in X_train]\n",
    "train_char_counts = np.reshape(train_char_counts, (-1, 1))\n",
    "\n",
    "test_char_counts = [len(document) for document in X_test]\n",
    "test_char_counts = np.reshape(test_char_counts, (-1, 1))\n",
    "\n",
    "train_matrix = np.append(X_train_vect.toarray(), train_char_counts, axis=1)\n",
    "test_matrix = np.append(X_test_vect.toarray(), test_char_counts, axis=1)\n",
    "\n",
    "model = LogisticRegression(solver=\"lbfgs\")\n",
    "model.fit(train_matrix, y_train)\n",
    "print_score_model(model, test_matrix, y_test)"
   ]
  },
  {
   "cell_type": "code",
   "execution_count": 12,
   "metadata": {},
   "outputs": [
    {
     "name": "stderr",
     "output_type": "stream",
     "text": [
      "INFO - 2019-05-08 15:30:26,600 - Precision: 0.806, recall: 0.798, f-measure: 0.802\n"
     ]
    },
    {
     "data": {
      "application/javascript": [
       "$(document).ready(\n",
       "    function() {\n",
       "        function appendUniqueDiv(){\n",
       "            // append a div with our uuid so we can check that it's already\n",
       "            // been sent and avoid duplicates on page reload\n",
       "            var notifiedDiv = document.createElement(\"div\")\n",
       "            notifiedDiv.id = \"85a875ce-60cd-4e30-ba86-d206acdf6105\"\n",
       "            element.append(notifiedDiv)\n",
       "        }\n",
       "\n",
       "        // only send notifications if the pageload is complete; this will\n",
       "        // help stop extra notifications when a saved notebook is loaded,\n",
       "        // which during testing gives us state \"interactive\", not \"complete\"\n",
       "        if (document.readyState === 'complete') {\n",
       "            // check for the div that signifies that the notification\n",
       "            // was already sent\n",
       "            if (document.getElementById(\"85a875ce-60cd-4e30-ba86-d206acdf6105\") === null) {\n",
       "                var notificationPayload = {\"requireInteraction\": false, \"icon\": \"/static/base/images/favicon.ico\", \"body\": \"Cell execution has finished!\"};\n",
       "                if (Notification.permission !== 'denied') {\n",
       "                    if (Notification.permission !== 'granted') { \n",
       "                        Notification.requestPermission(function (permission) {\n",
       "                            if(!('permission' in Notification)) {\n",
       "                                Notification.permission = permission\n",
       "                            }\n",
       "                        })\n",
       "                    }\n",
       "                    if (Notification.permission === 'granted') {\n",
       "                    var notification = new Notification(\"Jupyter Notebook\", notificationPayload)\n",
       "                    appendUniqueDiv()\n",
       "                    notification.onclick = function () {\n",
       "                        window.focus();\n",
       "                        this.close();\n",
       "                        };\n",
       "                    } \n",
       "                }     \n",
       "            }\n",
       "        }\n",
       "    }\n",
       ")\n"
      ],
      "text/plain": [
       "<IPython.core.display.Javascript object>"
      ]
     },
     "metadata": {},
     "output_type": "display_data"
    }
   ],
   "source": [
    "%%notify\n",
    "# Test Feature brackets count\n",
    "train_bracket_counts = [document.count(')') - document.count('(') for document in X_train]\n",
    "train_bracket_counts = np.reshape(train_bracket_counts, (-1, 1))\n",
    "\n",
    "test_bracket_counts = [document.count(')') - document.count('(') for document in X_test]\n",
    "test_bracket_counts = np.reshape(test_bracket_counts, (-1, 1))\n",
    "\n",
    "train_matrix = np.append(X_train_vect.toarray(), train_bracket_counts, axis=1)\n",
    "test_matrix = np.append(X_test_vect.toarray(), test_bracket_counts, axis=1)\n",
    "\n",
    "model = LogisticRegression(solver=\"lbfgs\")\n",
    "model.fit(train_matrix, y_train)\n",
    "print_score_model(model, test_matrix, y_test)"
   ]
  },
  {
   "cell_type": "code",
   "execution_count": 17,
   "metadata": {},
   "outputs": [
    {
     "name": "stderr",
     "output_type": "stream",
     "text": [
      "INFO - 2019-05-08 15:32:22,599 - Precision: 0.76, recall: 0.777, f-measure: 0.768\n"
     ]
    },
    {
     "data": {
      "application/javascript": [
       "$(document).ready(\n",
       "    function() {\n",
       "        function appendUniqueDiv(){\n",
       "            // append a div with our uuid so we can check that it's already\n",
       "            // been sent and avoid duplicates on page reload\n",
       "            var notifiedDiv = document.createElement(\"div\")\n",
       "            notifiedDiv.id = \"6e9bdd10-d0c0-4e79-9a89-526240f386e3\"\n",
       "            element.append(notifiedDiv)\n",
       "        }\n",
       "\n",
       "        // only send notifications if the pageload is complete; this will\n",
       "        // help stop extra notifications when a saved notebook is loaded,\n",
       "        // which during testing gives us state \"interactive\", not \"complete\"\n",
       "        if (document.readyState === 'complete') {\n",
       "            // check for the div that signifies that the notification\n",
       "            // was already sent\n",
       "            if (document.getElementById(\"6e9bdd10-d0c0-4e79-9a89-526240f386e3\") === null) {\n",
       "                var notificationPayload = {\"requireInteraction\": false, \"icon\": \"/static/base/images/favicon.ico\", \"body\": \"Cell execution has finished!\"};\n",
       "                if (Notification.permission !== 'denied') {\n",
       "                    if (Notification.permission !== 'granted') { \n",
       "                        Notification.requestPermission(function (permission) {\n",
       "                            if(!('permission' in Notification)) {\n",
       "                                Notification.permission = permission\n",
       "                            }\n",
       "                        })\n",
       "                    }\n",
       "                    if (Notification.permission === 'granted') {\n",
       "                    var notification = new Notification(\"Jupyter Notebook\", notificationPayload)\n",
       "                    appendUniqueDiv()\n",
       "                    notification.onclick = function () {\n",
       "                        window.focus();\n",
       "                        this.close();\n",
       "                        };\n",
       "                    } \n",
       "                }     \n",
       "            }\n",
       "        }\n",
       "    }\n",
       ")\n"
      ],
      "text/plain": [
       "<IPython.core.display.Javascript object>"
      ]
     },
     "metadata": {},
     "output_type": "display_data"
    }
   ],
   "source": [
    "%%notify\n",
    "import codecs\n",
    "\n",
    "POSITIVE_PATH = 'data/positive.txt'\n",
    "NEGATIVE_PATH = 'data/negative.txt'\n",
    "\n",
    "def read_words(filepath):\n",
    "    with codecs.open(filepath, 'r', 'utf-8') as f:\n",
    "        words = f.readlines()\n",
    "        words = [x.strip() for x in words]\n",
    "        return set(words)\n",
    "    \n",
    "def sentimental_values(documents):\n",
    "    sentimental_values = []\n",
    "\n",
    "    for document in documents:\n",
    "        sentimental_value = 0\n",
    "        for token in document:\n",
    "            if token in positive_words:\n",
    "                sentimental_value += 1\n",
    "            elif token in negative_words:\n",
    "                sentimental_value -= 1\n",
    "\n",
    "        sentimental_values.append(sentimental_value)\n",
    "\n",
    "    return sentimental_values\n",
    "    \n",
    "# Test Feature Sentimental\n",
    "positive_words = read_words(POSITIVE_PATH)\n",
    "negative_words = read_words(NEGATIVE_PATH)\n",
    "\n",
    "train_sentimental_values = sentimental_values(train_sentences)\n",
    "train_sentimental_values = np.reshape(train_sentimental_values, (-1, 1))\n",
    "\n",
    "test_sentimental_values = sentimental_values(test_sentences)\n",
    "test_sentimental_values = np.reshape(test_sentimental_values, (-1, 1))\n",
    "\n",
    "train_matrix = np.append(X_train_vect.toarray(), train_sentimental_values, axis=1)\n",
    "test_matrix = np.append(X_test_vect.toarray(), test_sentimental_values, axis=1)\n",
    "\n",
    "model = LogisticRegression(solver=\"lbfgs\")\n",
    "model.fit(train_matrix, y_train)\n",
    "print_score_model(model, test_matrix, y_test)"
   ]
  },
  {
   "cell_type": "code",
   "execution_count": 19,
   "metadata": {},
   "outputs": [
    {
     "name": "stderr",
     "output_type": "stream",
     "text": [
      "/Users/timursafigullin/miniconda3/lib/python3.7/site-packages/sklearn/linear_model/logistic.py:758: ConvergenceWarning: lbfgs failed to converge. Increase the number of iterations.\n",
      "  \"of iterations.\", ConvergenceWarning)\n",
      "INFO - 2019-05-08 15:34:52,398 - Precision: 0.8, recall: 0.723, f-measure: 0.76\n"
     ]
    }
   ],
   "source": [
    "%%notify\n",
    "\n",
    "def fit(x_train, y_train, x_test, y_test):\n",
    "    model = LogisticRegression(solver=\"lbfgs\")\n",
    "    model.fit(x_train, y_train)\n",
    "    print_score_model(model, x_test, y_test)\n",
    "\n",
    "# All futures\n",
    "train_matrix = np.append(X_train_vect.toarray(), X_train_vect_word_ngram.toarray(), axis=1)\n",
    "test_matrix = np.append(X_test_vect.toarray(), X_test_vect_word_ngram.toarray(), axis=1)\n",
    "\n",
    "train_matrix = np.append(train_matrix, X_train_vect_word_ngram.toarray(), axis=1)\n",
    "test_matrix = np.append(test_matrix, X_test_vect_word_ngram.toarray(), axis=1)\n",
    "\n",
    "train_matrix = np.append(train_matrix, train_word_counts, axis=1)\n",
    "test_matrix = np.append(test_matrix, test_word_counts, axis=1)\n",
    "\n",
    "train_matrix = np.append(train_matrix, train_char_counts, axis=1)\n",
    "test_matrix = np.append(test_matrix, test_char_counts, axis=1)\n",
    "\n",
    "train_matrix = np.append(train_matrix, train_bracket_counts, axis=1)\n",
    "test_matrix = np.append(test_matrix, test_bracket_counts, axis=1)\n",
    "\n",
    "fit(train_matrix, y_train, test_matrix, y_test)"
   ]
  },
  {
   "cell_type": "code",
   "execution_count": null,
   "metadata": {},
   "outputs": [],
   "source": [
    "%%notify\n",
    "from sklearn import svm\n",
    "from sklearn.model_selection import train_test_split, GridSearchCV\n",
    "\n",
    "# GridSearchCV\n",
    "parameters = {'kernel': ('linear', 'rbf'), 'C': [1, 10]}\n",
    "svc = svm.SVC(gamma=\"scale\")\n",
    "clf = GridSearchCV(svc, parameters, cv=5)\n",
    "clf.fit(train_matrix, y_train)\n",
    "print(clf.best_estimator_.feature_importance())"
   ]
  },
  {
   "cell_type": "code",
   "execution_count": null,
   "metadata": {},
   "outputs": [],
   "source": []
  }
 ],
 "metadata": {
  "kernelspec": {
   "display_name": "Python 3",
   "language": "python",
   "name": "python3"
  },
  "language_info": {
   "codemirror_mode": {
    "name": "ipython",
    "version": 3
   },
   "file_extension": ".py",
   "mimetype": "text/x-python",
   "name": "python",
   "nbconvert_exporter": "python",
   "pygments_lexer": "ipython3",
   "version": "3.7.2"
  }
 },
 "nbformat": 4,
 "nbformat_minor": 2
}
