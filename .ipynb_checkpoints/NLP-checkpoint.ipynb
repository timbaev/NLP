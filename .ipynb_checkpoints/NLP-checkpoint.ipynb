{
 "cells": [
  {
   "cell_type": "code",
   "execution_count": 1,
   "metadata": {},
   "outputs": [
    {
     "name": "stderr",
     "output_type": "stream",
     "text": [
      "paramiko missing, opening SSH/SCP/SFTP paths will be disabled.  `pip install paramiko` to suppress\n"
     ]
    }
   ],
   "source": [
    "import ast\n",
    "import logging\n",
    "import string\n",
    "import numpy as np\n",
    "\n",
    "from sklearn.model_selection import train_test_split\n",
    "from sklearn.feature_extraction.text import TfidfVectorizer\n",
    "from sklearn.metrics import precision_recall_fscore_support\n",
    "from nltk.corpus import stopwords\n",
    "from sklearn.linear_model import LogisticRegression\n",
    "from sklearn.ensemble import ExtraTreesClassifier\n",
    "from pymystem3 import Mystem\n",
    "from gensim.models import Word2Vec"
   ]
  },
  {
   "cell_type": "code",
   "execution_count": 2,
   "metadata": {},
   "outputs": [],
   "source": [
    "CORPUS_PATH = 'data/corpus.txt'\n",
    "log = logging.getLogger()\n",
    "\n",
    "POS_MARK = 1\n",
    "NEG_MARK = 0"
   ]
  },
  {
   "cell_type": "code",
   "execution_count": 3,
   "metadata": {},
   "outputs": [],
   "source": [
    "def read_data(corpus_path):\n",
    "    with open(corpus_path, 'r') as f:\n",
    "        log.info(\"Reading file...\")\n",
    "\n",
    "        reviews = []\n",
    "        marks = []\n",
    "\n",
    "        lines = f.readlines()\n",
    "        lines = [x.strip() for x in lines]\n",
    "\n",
    "        for line in lines:\n",
    "            dictionary = ast.literal_eval(line)\n",
    "            reviews.append(dictionary['description'])\n",
    "\n",
    "            recom_author_mark = dictionary['recom_author_mark']\n",
    "            marks.append(parse_label(recom_author_mark))\n",
    "\n",
    "    return reviews, marks\n",
    "\n",
    "\n",
    "def parse_label(recom_author_mark):\n",
    "    if recom_author_mark == 'ДА':\n",
    "        return POS_MARK\n",
    "    elif recom_author_mark == '':\n",
    "        return NEG_MARK\n",
    "    else:\n",
    "        raise Exception(\"Unknown recom_author_mark\")\n",
    "\n",
    "\n",
    "def split_reviews(reviews, marks, n=500):\n",
    "    pos_reviews = []\n",
    "    neg_reviews = []\n",
    "\n",
    "    log.info(f\"Split reviews to {n} positive and {n} negative.\")\n",
    "\n",
    "    for index, review in enumerate(reviews):\n",
    "        if marks[index] == POS_MARK and len(pos_reviews) < n:\n",
    "            pos_reviews.append(review)\n",
    "        elif marks[index] == NEG_MARK and len(neg_reviews) < n:\n",
    "            neg_reviews.append(review)\n",
    "\n",
    "        if len(pos_reviews) == n and len(neg_reviews) == n:\n",
    "            break\n",
    "\n",
    "    return pos_reviews, neg_reviews\n",
    "\n",
    "\n",
    "def tokenize(document):\n",
    "    ignore = set(stopwords.words('russian'))\n",
    "    stem = Mystem()\n",
    "\n",
    "    tokens = stem.lemmatize(document)\n",
    "\n",
    "    tokens = [w.lower() for w in tokens if w not in ignore]\n",
    "    tokens = [w for w in tokens if w not in string.punctuation]\n",
    "    tokens = [w for w in tokens if w.isalpha()]\n",
    "\n",
    "    return tokens\n",
    "\n",
    "\n",
    "def tokenize_documents_extend(documents):\n",
    "    texts = []\n",
    "\n",
    "    for document in documents:\n",
    "        w = tokenize(document)\n",
    "        texts.extend(w)\n",
    "\n",
    "    return texts\n",
    "\n",
    "\n",
    "def tokenize_documents_append(documents):\n",
    "    texts = []\n",
    "\n",
    "    for document in documents:\n",
    "        w = tokenize(document)\n",
    "        texts.append(w)\n",
    "\n",
    "    return texts\n",
    "\n",
    "\n",
    "def print_score_model(model, X_test, y_test):\n",
    "    y_pred = model.predict(X_test)\n",
    "    metrics = precision_recall_fscore_support(y_pred=y_pred, y_true=y_test, average='binary', pos_label=POS_MARK)\n",
    "    log.info(f'Precision: {round(metrics[0], 3)}, recall: {round(metrics[1], 3)}, f-measure: {round(metrics[2], 3)}')\n",
    "\n",
    "\n",
    "def feature_importances(X, Y):\n",
    "    model = ExtraTreesClassifier()\n",
    "    model.fit(X, Y)\n",
    "    return model.feature_importances_\n",
    "\n",
    "\n",
    "def print_most_valuable_features(tokens, tokens_importances, n=100):\n",
    "    tokens_importances, tokens = zip(*sorted(zip(tokens_importances, tokens), reverse=True))\n",
    "\n",
    "    print(tokens[:n])\n",
    "    print(tokens_importances[:n])\n",
    "\n",
    "\n",
    "def setup_logger():\n",
    "    logging.basicConfig(format='%(levelname)s - %(asctime)s - %(message)s')\n",
    "    log.setLevel(logging.INFO)\n",
    "\n",
    "\n",
    "def makeFeatureVec(words, model, num_features):\n",
    "    featureVec = np.zeros((num_features,), dtype=\"float32\")\n",
    "\n",
    "    nwords = 0\n",
    "\n",
    "    index2word_set = set(model.wv.index2word)\n",
    "\n",
    "    for word in words:\n",
    "        if word in index2word_set:\n",
    "            nwords = nwords + 1\n",
    "            featureVec = np.add(featureVec, model[word])\n",
    "\n",
    "    featureVec = np.divide(featureVec, nwords)\n",
    "    return featureVec\n",
    "\n",
    "\n",
    "def getAvgFeatureVecs(reviews, model, num_features):\n",
    "    counter = 0\n",
    "\n",
    "    reviewFeatureVecs = np.zeros((len(reviews), num_features), dtype=\"float32\")\n",
    "\n",
    "    for review in reviews:\n",
    "        reviewFeatureVecs[counter] = makeFeatureVec(review, model, num_features)\n",
    "        counter = counter + 1\n",
    "\n",
    "    return reviewFeatureVecs"
   ]
  },
  {
   "cell_type": "code",
   "execution_count": 4,
   "metadata": {},
   "outputs": [],
   "source": [
    "setup_logger()"
   ]
  },
  {
   "cell_type": "code",
   "execution_count": 6,
   "metadata": {},
   "outputs": [
    {
     "name": "stderr",
     "output_type": "stream",
     "text": [
      "INFO - 2019-04-24 16:27:36,362 - Reading file...\n",
      "INFO - 2019-04-24 16:27:58,861 - Split reviews to 500 positive and 500 negative.\n"
     ]
    }
   ],
   "source": [
    "reviews, marks = read_data(CORPUS_PATH)\n",
    "pos_reviews, neg_reviews = split_reviews(reviews, marks)\n",
    "\n",
    "y_pos = [1] * len(pos_reviews)\n",
    "y_neg = [0] * len(neg_reviews)\n",
    "\n",
    "X_train, X_test, y_train, y_test = train_test_split(pos_reviews + neg_reviews, y_pos + y_neg, test_size=0.2)"
   ]
  },
  {
   "cell_type": "code",
   "execution_count": 7,
   "metadata": {},
   "outputs": [
    {
     "name": "stderr",
     "output_type": "stream",
     "text": [
      "INFO - 2019-04-24 16:51:02,390 - Precision: 0.862, recall: 0.877, f-measure: 0.87\n",
      "/Users/timursafigullin/miniconda3/lib/python3.7/site-packages/sklearn/ensemble/forest.py:246: FutureWarning: The default value of n_estimators will change from 10 in version 0.20 to 100 in 0.22.\n",
      "  \"10 in version 0.20 to 100 in 0.22.\", FutureWarning)\n"
     ]
    }
   ],
   "source": [
    "vectorizer = TfidfVectorizer(max_features=50000, min_df=5, tokenizer=tokenize)\n",
    "X_train_vect = vectorizer.fit_transform(X_train)\n",
    "X_test_vect = vectorizer.transform(X_test)\n",
    "\n",
    "model = LogisticRegression(solver=\"lbfgs\")\n",
    "model.fit(X_train_vect.toarray(), y_train)\n",
    "print_score_model(model, X_test_vect.toarray(), y_test)\n",
    "\n",
    "token_importances = feature_importances(X_train_vect.toarray(), y_train)"
   ]
  },
  {
   "cell_type": "code",
   "execution_count": null,
   "metadata": {},
   "outputs": [],
   "source": [
    "# Test Features word ngram\n",
    "vectorizer = TfidfVectorizer(max_features=50000, min_df=5, tokenizer=tokenize, analyzer='word', ngram_range=(3, 3))\n",
    "X_train_vect_word_ngram = vectorizer.fit_transform(X_train)\n",
    "X_test_vect_word_ngram = vectorizer.transform(X_test)\n",
    "\n",
    "train_matrix = np.append(X_train_vect.toarray(), X_train_vect_word_ngram.toarray(), axis=1)\n",
    "test_matrix = np.append(X_test_vect.toarray(), X_test_vect_word_ngram.toarray(), axis=1)\n",
    "\n",
    "model = LogisticRegression(solver=\"lbfgs\")\n",
    "model.fit(train_matrix, y_train)\n",
    "print_score_model(model, test_matrix, y_test)"
   ]
  },
  {
   "cell_type": "code",
   "execution_count": null,
   "metadata": {},
   "outputs": [],
   "source": [
    "# Test Features char ngram\n",
    "vectorizer = TfidfVectorizer(max_features=50000, min_df=5, analyzer='char', ngram_range=(3, 3))\n",
    "X_train_vect_word_ngram = vectorizer.fit_transform(X_train)\n",
    "X_test_vect_word_ngram = vectorizer.transform(X_test)\n",
    "\n",
    "train_matrix = np.append(X_train_vect.toarray(), X_train_vect_word_ngram.toarray(), axis=1)\n",
    "test_matrix = np.append(X_test_vect.toarray(), X_test_vect_word_ngram.toarray(), axis=1)\n",
    "\n",
    "model = LogisticRegression(solver=\"lbfgs\")\n",
    "model.fit(train_matrix, y_train)\n",
    "print_score_model(model, test_matrix, y_test)"
   ]
  },
  {
   "cell_type": "code",
   "execution_count": null,
   "metadata": {},
   "outputs": [],
   "source": []
  },
  {
   "cell_type": "code",
   "execution_count": null,
   "metadata": {},
   "outputs": [],
   "source": []
  }
 ],
 "metadata": {
  "kernelspec": {
   "display_name": "Python 3",
   "language": "python",
   "name": "python3"
  },
  "language_info": {
   "codemirror_mode": {
    "name": "ipython",
    "version": 3
   },
   "file_extension": ".py",
   "mimetype": "text/x-python",
   "name": "python",
   "nbconvert_exporter": "python",
   "pygments_lexer": "ipython3",
   "version": "3.7.2"
  }
 },
 "nbformat": 4,
 "nbformat_minor": 2
}
